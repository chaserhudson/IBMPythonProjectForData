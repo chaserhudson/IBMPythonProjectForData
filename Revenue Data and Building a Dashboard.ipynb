{
 "cells": [
  {
   "cell_type": "code",
   "execution_count": 22,
   "outputs": [],
   "source": [
    "import yfinance as yf\n",
    "import pandas as pd\n",
    "import numpy as np\n",
    "import matplotlib.pyplot as plt\n",
    "import requests\n",
    "from bs4 import BeautifulSoup"
   ],
   "metadata": {
    "collapsed": false,
    "ExecuteTime": {
     "end_time": "2023-09-01T14:58:31.893451Z",
     "start_time": "2023-09-01T14:58:31.887284Z"
    }
   },
   "id": "6b5ad727bb153757"
  },
  {
   "cell_type": "markdown",
   "source": [
    "# Do Thangs"
   ],
   "metadata": {
    "collapsed": false
   },
   "id": "ec6b6bb33918b4aa"
  },
  {
   "cell_type": "code",
   "execution_count": 23,
   "outputs": [],
   "source": [
    "def get_stock_data(symbol):\n",
    "    stock = yf.Ticker(symbol)\n",
    "    stock_data = stock.history(period=\"max\")\n",
    "    stock_data.reset_index(inplace=True)\n",
    "    return stock_data\n",
    "\n",
    "def get_revenue(symbol):\n",
    "    stock = yf.Ticker(symbol)\n",
    "    stock_data = stock.financials\n",
    "    stock_data.reset_index(inplace=True)\n",
    "    return stock_data\n",
    "\n",
    "# plot rev and stock price\n",
    "def dashboard(symbol, title):\n",
    "    tesla_stock = get_stock_data(symbol)\n",
    "    tesla_revenue = get_revenue(symbol)\n",
    "    fig, ax = plt.subplots()\n",
    "    ax.plot(tesla_stock[\"Date\"], tesla_stock[\"Close\"], color=\"red\")\n",
    "    ax.set_xlabel(\"Date\")\n",
    "    ax.set_ylabel(\"Stock Price\", color=\"red\")\n",
    "    ax2 = ax.twinx()\n",
    "    ax2.plot(tesla_revenue[\"Date\"], tesla_revenue[\"Revenue\"], color=\"blue\")\n",
    "    ax2.set_ylabel(\"Revenue\", color=\"blue\")\n",
    "    plt.title(title)\n",
    "    plt.show()"
   ],
   "metadata": {
    "collapsed": false,
    "ExecuteTime": {
     "end_time": "2023-09-01T14:58:32.810663Z",
     "start_time": "2023-09-01T14:58:32.808745Z"
    }
   },
   "id": "3091c600ab1603c9"
  },
  {
   "cell_type": "markdown",
   "source": [
    "# Extracting Tesla Stock Data Using yfinance:"
   ],
   "metadata": {
    "collapsed": false
   },
   "id": "60c74e2380f05bfb"
  },
  {
   "cell_type": "code",
   "execution_count": 24,
   "outputs": [
    {
     "data": {
      "text/plain": "                       Date      Open      High       Low     Close  \\\n0 2010-06-29 00:00:00-04:00  1.266667  1.666667  1.169333  1.592667   \n1 2010-06-30 00:00:00-04:00  1.719333  2.028000  1.553333  1.588667   \n2 2010-07-01 00:00:00-04:00  1.666667  1.728000  1.351333  1.464000   \n3 2010-07-02 00:00:00-04:00  1.533333  1.540000  1.247333  1.280000   \n4 2010-07-06 00:00:00-04:00  1.333333  1.333333  1.055333  1.074000   \n\n      Volume  Dividends  Stock Splits  \n0  281494500        0.0           0.0  \n1  257806500        0.0           0.0  \n2  123282000        0.0           0.0  \n3   77097000        0.0           0.0  \n4  103003500        0.0           0.0  ",
      "text/html": "<div>\n<style scoped>\n    .dataframe tbody tr th:only-of-type {\n        vertical-align: middle;\n    }\n\n    .dataframe tbody tr th {\n        vertical-align: top;\n    }\n\n    .dataframe thead th {\n        text-align: right;\n    }\n</style>\n<table border=\"1\" class=\"dataframe\">\n  <thead>\n    <tr style=\"text-align: right;\">\n      <th></th>\n      <th>Date</th>\n      <th>Open</th>\n      <th>High</th>\n      <th>Low</th>\n      <th>Close</th>\n      <th>Volume</th>\n      <th>Dividends</th>\n      <th>Stock Splits</th>\n    </tr>\n  </thead>\n  <tbody>\n    <tr>\n      <th>0</th>\n      <td>2010-06-29 00:00:00-04:00</td>\n      <td>1.266667</td>\n      <td>1.666667</td>\n      <td>1.169333</td>\n      <td>1.592667</td>\n      <td>281494500</td>\n      <td>0.0</td>\n      <td>0.0</td>\n    </tr>\n    <tr>\n      <th>1</th>\n      <td>2010-06-30 00:00:00-04:00</td>\n      <td>1.719333</td>\n      <td>2.028000</td>\n      <td>1.553333</td>\n      <td>1.588667</td>\n      <td>257806500</td>\n      <td>0.0</td>\n      <td>0.0</td>\n    </tr>\n    <tr>\n      <th>2</th>\n      <td>2010-07-01 00:00:00-04:00</td>\n      <td>1.666667</td>\n      <td>1.728000</td>\n      <td>1.351333</td>\n      <td>1.464000</td>\n      <td>123282000</td>\n      <td>0.0</td>\n      <td>0.0</td>\n    </tr>\n    <tr>\n      <th>3</th>\n      <td>2010-07-02 00:00:00-04:00</td>\n      <td>1.533333</td>\n      <td>1.540000</td>\n      <td>1.247333</td>\n      <td>1.280000</td>\n      <td>77097000</td>\n      <td>0.0</td>\n      <td>0.0</td>\n    </tr>\n    <tr>\n      <th>4</th>\n      <td>2010-07-06 00:00:00-04:00</td>\n      <td>1.333333</td>\n      <td>1.333333</td>\n      <td>1.055333</td>\n      <td>1.074000</td>\n      <td>103003500</td>\n      <td>0.0</td>\n      <td>0.0</td>\n    </tr>\n  </tbody>\n</table>\n</div>"
     },
     "execution_count": 24,
     "metadata": {},
     "output_type": "execute_result"
    }
   ],
   "source": [
    "get_stock_data(\"TSLA\").head()"
   ],
   "metadata": {
    "collapsed": false,
    "ExecuteTime": {
     "end_time": "2023-09-01T14:58:33.821667Z",
     "start_time": "2023-09-01T14:58:33.555905Z"
    }
   },
   "id": "d223a8949b92d455"
  },
  {
   "cell_type": "markdown",
   "source": [
    "# Extracting Tesla Revenue Data Using Web Scraping:"
   ],
   "metadata": {
    "collapsed": false
   },
   "id": "217fd73d68bcf2ee"
  },
  {
   "cell_type": "code",
   "execution_count": 25,
   "outputs": [
    {
     "data": {
      "text/plain": "                                    index 2022-12-31 00:00:00  \\\n0             Tax Effect Of Unusual Items         -14080000.0   \n1                      Tax Rate For Calcs                0.08   \n2                       Normalized EBITDA       17833000000.0   \n3                     Total Unusual Items        -176000000.0   \n4  Total Unusual Items Excluding Goodwill        -176000000.0   \n\n  2021-12-31 00:00:00 2020-12-31 00:00:00 2019-12-31 00:00:00  \n0           2970000.0                 0.0         -40230000.0  \n1                0.11                0.25                0.27  \n2        9598000000.0        4224000000.0        2323000000.0  \n3          27000000.0                 0.0        -149000000.0  \n4          27000000.0                 0.0        -149000000.0  ",
      "text/html": "<div>\n<style scoped>\n    .dataframe tbody tr th:only-of-type {\n        vertical-align: middle;\n    }\n\n    .dataframe tbody tr th {\n        vertical-align: top;\n    }\n\n    .dataframe thead th {\n        text-align: right;\n    }\n</style>\n<table border=\"1\" class=\"dataframe\">\n  <thead>\n    <tr style=\"text-align: right;\">\n      <th></th>\n      <th>index</th>\n      <th>2022-12-31 00:00:00</th>\n      <th>2021-12-31 00:00:00</th>\n      <th>2020-12-31 00:00:00</th>\n      <th>2019-12-31 00:00:00</th>\n    </tr>\n  </thead>\n  <tbody>\n    <tr>\n      <th>0</th>\n      <td>Tax Effect Of Unusual Items</td>\n      <td>-14080000.0</td>\n      <td>2970000.0</td>\n      <td>0.0</td>\n      <td>-40230000.0</td>\n    </tr>\n    <tr>\n      <th>1</th>\n      <td>Tax Rate For Calcs</td>\n      <td>0.08</td>\n      <td>0.11</td>\n      <td>0.25</td>\n      <td>0.27</td>\n    </tr>\n    <tr>\n      <th>2</th>\n      <td>Normalized EBITDA</td>\n      <td>17833000000.0</td>\n      <td>9598000000.0</td>\n      <td>4224000000.0</td>\n      <td>2323000000.0</td>\n    </tr>\n    <tr>\n      <th>3</th>\n      <td>Total Unusual Items</td>\n      <td>-176000000.0</td>\n      <td>27000000.0</td>\n      <td>0.0</td>\n      <td>-149000000.0</td>\n    </tr>\n    <tr>\n      <th>4</th>\n      <td>Total Unusual Items Excluding Goodwill</td>\n      <td>-176000000.0</td>\n      <td>27000000.0</td>\n      <td>0.0</td>\n      <td>-149000000.0</td>\n    </tr>\n  </tbody>\n</table>\n</div>"
     },
     "execution_count": 25,
     "metadata": {},
     "output_type": "execute_result"
    }
   ],
   "source": [
    "get_revenue(\"TSLA\").head()\n"
   ],
   "metadata": {
    "collapsed": false,
    "ExecuteTime": {
     "end_time": "2023-09-01T14:58:34.366993Z",
     "start_time": "2023-09-01T14:58:34.226017Z"
    }
   },
   "id": "f01b0018afbda1c4"
  },
  {
   "cell_type": "markdown",
   "source": [
    "# Extracting GameStop Stock Data Using yfinance:"
   ],
   "metadata": {
    "collapsed": false
   },
   "id": "9e58ea9cfbf8dc62"
  },
  {
   "cell_type": "code",
   "execution_count": 26,
   "outputs": [
    {
     "data": {
      "text/plain": "                       Date      Open      High       Low     Close    Volume  \\\n0 2002-02-13 00:00:00-05:00  1.620128  1.693350  1.603296  1.691666  76216000   \n1 2002-02-14 00:00:00-05:00  1.712707  1.716073  1.670626  1.683250  11021600   \n2 2002-02-15 00:00:00-05:00  1.683250  1.687458  1.658001  1.674834   8389600   \n3 2002-02-19 00:00:00-05:00  1.666418  1.666418  1.578047  1.607504   7410400   \n4 2002-02-20 00:00:00-05:00  1.615921  1.662210  1.603296  1.662210   6892800   \n\n   Dividends  Stock Splits  \n0        0.0           0.0  \n1        0.0           0.0  \n2        0.0           0.0  \n3        0.0           0.0  \n4        0.0           0.0  ",
      "text/html": "<div>\n<style scoped>\n    .dataframe tbody tr th:only-of-type {\n        vertical-align: middle;\n    }\n\n    .dataframe tbody tr th {\n        vertical-align: top;\n    }\n\n    .dataframe thead th {\n        text-align: right;\n    }\n</style>\n<table border=\"1\" class=\"dataframe\">\n  <thead>\n    <tr style=\"text-align: right;\">\n      <th></th>\n      <th>Date</th>\n      <th>Open</th>\n      <th>High</th>\n      <th>Low</th>\n      <th>Close</th>\n      <th>Volume</th>\n      <th>Dividends</th>\n      <th>Stock Splits</th>\n    </tr>\n  </thead>\n  <tbody>\n    <tr>\n      <th>0</th>\n      <td>2002-02-13 00:00:00-05:00</td>\n      <td>1.620128</td>\n      <td>1.693350</td>\n      <td>1.603296</td>\n      <td>1.691666</td>\n      <td>76216000</td>\n      <td>0.0</td>\n      <td>0.0</td>\n    </tr>\n    <tr>\n      <th>1</th>\n      <td>2002-02-14 00:00:00-05:00</td>\n      <td>1.712707</td>\n      <td>1.716073</td>\n      <td>1.670626</td>\n      <td>1.683250</td>\n      <td>11021600</td>\n      <td>0.0</td>\n      <td>0.0</td>\n    </tr>\n    <tr>\n      <th>2</th>\n      <td>2002-02-15 00:00:00-05:00</td>\n      <td>1.683250</td>\n      <td>1.687458</td>\n      <td>1.658001</td>\n      <td>1.674834</td>\n      <td>8389600</td>\n      <td>0.0</td>\n      <td>0.0</td>\n    </tr>\n    <tr>\n      <th>3</th>\n      <td>2002-02-19 00:00:00-05:00</td>\n      <td>1.666418</td>\n      <td>1.666418</td>\n      <td>1.578047</td>\n      <td>1.607504</td>\n      <td>7410400</td>\n      <td>0.0</td>\n      <td>0.0</td>\n    </tr>\n    <tr>\n      <th>4</th>\n      <td>2002-02-20 00:00:00-05:00</td>\n      <td>1.615921</td>\n      <td>1.662210</td>\n      <td>1.603296</td>\n      <td>1.662210</td>\n      <td>6892800</td>\n      <td>0.0</td>\n      <td>0.0</td>\n    </tr>\n  </tbody>\n</table>\n</div>"
     },
     "execution_count": 26,
     "metadata": {},
     "output_type": "execute_result"
    }
   ],
   "source": [
    "get_stock_data(\"GME\").head()"
   ],
   "metadata": {
    "collapsed": false,
    "ExecuteTime": {
     "end_time": "2023-09-01T14:58:35.252879Z",
     "start_time": "2023-09-01T14:58:34.877394Z"
    }
   },
   "id": "21a7eb5d8f96e36"
  },
  {
   "cell_type": "markdown",
   "source": [
    "# Extracting GameStop Revenue Data Using Web Scraping"
   ],
   "metadata": {
    "collapsed": false
   },
   "id": "78d0810f6c08545b"
  },
  {
   "cell_type": "code",
   "execution_count": 27,
   "outputs": [
    {
     "data": {
      "text/plain": "                                    index 2023-01-31 00:00:00  \\\n0             Tax Effect Of Unusual Items          -1080000.0   \n1                      Tax Rate For Calcs                 0.4   \n2                       Normalized EBITDA        -244500000.0   \n3                     Total Unusual Items          -2700000.0   \n4  Total Unusual Items Excluding Goodwill          -2700000.0   \n\n  2022-01-31 00:00:00 2021-01-31 00:00:00 2020-01-31 00:00:00  \n0      -238922.610015      3462652.834383        -104112000.0  \n1             0.03566            0.204891                0.27  \n2        -277900000.0        -190900000.0         467800000.0  \n3          -6700000.0          16900000.0        -385600000.0  \n4          -6700000.0          16900000.0        -385600000.0  ",
      "text/html": "<div>\n<style scoped>\n    .dataframe tbody tr th:only-of-type {\n        vertical-align: middle;\n    }\n\n    .dataframe tbody tr th {\n        vertical-align: top;\n    }\n\n    .dataframe thead th {\n        text-align: right;\n    }\n</style>\n<table border=\"1\" class=\"dataframe\">\n  <thead>\n    <tr style=\"text-align: right;\">\n      <th></th>\n      <th>index</th>\n      <th>2023-01-31 00:00:00</th>\n      <th>2022-01-31 00:00:00</th>\n      <th>2021-01-31 00:00:00</th>\n      <th>2020-01-31 00:00:00</th>\n    </tr>\n  </thead>\n  <tbody>\n    <tr>\n      <th>0</th>\n      <td>Tax Effect Of Unusual Items</td>\n      <td>-1080000.0</td>\n      <td>-238922.610015</td>\n      <td>3462652.834383</td>\n      <td>-104112000.0</td>\n    </tr>\n    <tr>\n      <th>1</th>\n      <td>Tax Rate For Calcs</td>\n      <td>0.4</td>\n      <td>0.03566</td>\n      <td>0.204891</td>\n      <td>0.27</td>\n    </tr>\n    <tr>\n      <th>2</th>\n      <td>Normalized EBITDA</td>\n      <td>-244500000.0</td>\n      <td>-277900000.0</td>\n      <td>-190900000.0</td>\n      <td>467800000.0</td>\n    </tr>\n    <tr>\n      <th>3</th>\n      <td>Total Unusual Items</td>\n      <td>-2700000.0</td>\n      <td>-6700000.0</td>\n      <td>16900000.0</td>\n      <td>-385600000.0</td>\n    </tr>\n    <tr>\n      <th>4</th>\n      <td>Total Unusual Items Excluding Goodwill</td>\n      <td>-2700000.0</td>\n      <td>-6700000.0</td>\n      <td>16900000.0</td>\n      <td>-385600000.0</td>\n    </tr>\n  </tbody>\n</table>\n</div>"
     },
     "execution_count": 27,
     "metadata": {},
     "output_type": "execute_result"
    }
   ],
   "source": [
    "get_revenue(\"GME\").head()"
   ],
   "metadata": {
    "collapsed": false,
    "ExecuteTime": {
     "end_time": "2023-09-01T14:58:35.727146Z",
     "start_time": "2023-09-01T14:58:35.560238Z"
    }
   },
   "id": "53eaffef1fd60cd1"
  },
  {
   "cell_type": "markdown",
   "source": [
    "# Tesla Stock and Revenue Dashboard"
   ],
   "metadata": {
    "collapsed": false
   },
   "id": "e434b6e507dcba10"
  },
  {
   "cell_type": "code",
   "execution_count": 28,
   "outputs": [
    {
     "ename": "KeyError",
     "evalue": "'Date'",
     "output_type": "error",
     "traceback": [
      "\u001B[0;31m---------------------------------------------------------------------------\u001B[0m",
      "\u001B[0;31mKeyError\u001B[0m                                  Traceback (most recent call last)",
      "File \u001B[0;32m~/PycharmProjects/IBM_Data_Science/venv/lib/python3.11/site-packages/pandas/core/indexes/base.py:3790\u001B[0m, in \u001B[0;36mIndex.get_loc\u001B[0;34m(self, key)\u001B[0m\n\u001B[1;32m   3789\u001B[0m \u001B[38;5;28;01mtry\u001B[39;00m:\n\u001B[0;32m-> 3790\u001B[0m     \u001B[38;5;28;01mreturn\u001B[39;00m \u001B[38;5;28;43mself\u001B[39;49m\u001B[38;5;241;43m.\u001B[39;49m\u001B[43m_engine\u001B[49m\u001B[38;5;241;43m.\u001B[39;49m\u001B[43mget_loc\u001B[49m\u001B[43m(\u001B[49m\u001B[43mcasted_key\u001B[49m\u001B[43m)\u001B[49m\n\u001B[1;32m   3791\u001B[0m \u001B[38;5;28;01mexcept\u001B[39;00m \u001B[38;5;167;01mKeyError\u001B[39;00m \u001B[38;5;28;01mas\u001B[39;00m err:\n",
      "File \u001B[0;32mindex.pyx:152\u001B[0m, in \u001B[0;36mpandas._libs.index.IndexEngine.get_loc\u001B[0;34m()\u001B[0m\n",
      "File \u001B[0;32mindex.pyx:181\u001B[0m, in \u001B[0;36mpandas._libs.index.IndexEngine.get_loc\u001B[0;34m()\u001B[0m\n",
      "File \u001B[0;32mpandas/_libs/hashtable_class_helper.pxi:7080\u001B[0m, in \u001B[0;36mpandas._libs.hashtable.PyObjectHashTable.get_item\u001B[0;34m()\u001B[0m\n",
      "File \u001B[0;32mpandas/_libs/hashtable_class_helper.pxi:7088\u001B[0m, in \u001B[0;36mpandas._libs.hashtable.PyObjectHashTable.get_item\u001B[0;34m()\u001B[0m\n",
      "\u001B[0;31mKeyError\u001B[0m: 'Date'",
      "\nThe above exception was the direct cause of the following exception:\n",
      "\u001B[0;31mKeyError\u001B[0m                                  Traceback (most recent call last)",
      "Cell \u001B[0;32mIn[28], line 1\u001B[0m\n\u001B[0;32m----> 1\u001B[0m \u001B[43mdashboard\u001B[49m\u001B[43m(\u001B[49m\u001B[38;5;124;43m\"\u001B[39;49m\u001B[38;5;124;43mTSLA\u001B[39;49m\u001B[38;5;124;43m\"\u001B[39;49m\u001B[43m,\u001B[49m\u001B[43m \u001B[49m\u001B[38;5;124;43m\"\u001B[39;49m\u001B[38;5;124;43mTesla Stock and Revenue Dashboard\u001B[39;49m\u001B[38;5;124;43m\"\u001B[39;49m\u001B[43m)\u001B[49m\n",
      "Cell \u001B[0;32mIn[23], line 22\u001B[0m, in \u001B[0;36mdashboard\u001B[0;34m(symbol, title)\u001B[0m\n\u001B[1;32m     20\u001B[0m ax\u001B[38;5;241m.\u001B[39mset_ylabel(\u001B[38;5;124m\"\u001B[39m\u001B[38;5;124mStock Price\u001B[39m\u001B[38;5;124m\"\u001B[39m, color\u001B[38;5;241m=\u001B[39m\u001B[38;5;124m\"\u001B[39m\u001B[38;5;124mred\u001B[39m\u001B[38;5;124m\"\u001B[39m)\n\u001B[1;32m     21\u001B[0m ax2 \u001B[38;5;241m=\u001B[39m ax\u001B[38;5;241m.\u001B[39mtwinx()\n\u001B[0;32m---> 22\u001B[0m ax2\u001B[38;5;241m.\u001B[39mplot(\u001B[43mtesla_revenue\u001B[49m\u001B[43m[\u001B[49m\u001B[38;5;124;43m\"\u001B[39;49m\u001B[38;5;124;43mDate\u001B[39;49m\u001B[38;5;124;43m\"\u001B[39;49m\u001B[43m]\u001B[49m, tesla_revenue[\u001B[38;5;124m\"\u001B[39m\u001B[38;5;124mRevenue\u001B[39m\u001B[38;5;124m\"\u001B[39m], color\u001B[38;5;241m=\u001B[39m\u001B[38;5;124m\"\u001B[39m\u001B[38;5;124mblue\u001B[39m\u001B[38;5;124m\"\u001B[39m)\n\u001B[1;32m     23\u001B[0m ax2\u001B[38;5;241m.\u001B[39mset_ylabel(\u001B[38;5;124m\"\u001B[39m\u001B[38;5;124mRevenue\u001B[39m\u001B[38;5;124m\"\u001B[39m, color\u001B[38;5;241m=\u001B[39m\u001B[38;5;124m\"\u001B[39m\u001B[38;5;124mblue\u001B[39m\u001B[38;5;124m\"\u001B[39m)\n\u001B[1;32m     24\u001B[0m plt\u001B[38;5;241m.\u001B[39mtitle(title)\n",
      "File \u001B[0;32m~/PycharmProjects/IBM_Data_Science/venv/lib/python3.11/site-packages/pandas/core/frame.py:3896\u001B[0m, in \u001B[0;36mDataFrame.__getitem__\u001B[0;34m(self, key)\u001B[0m\n\u001B[1;32m   3894\u001B[0m \u001B[38;5;28;01mif\u001B[39;00m \u001B[38;5;28mself\u001B[39m\u001B[38;5;241m.\u001B[39mcolumns\u001B[38;5;241m.\u001B[39mnlevels \u001B[38;5;241m>\u001B[39m \u001B[38;5;241m1\u001B[39m:\n\u001B[1;32m   3895\u001B[0m     \u001B[38;5;28;01mreturn\u001B[39;00m \u001B[38;5;28mself\u001B[39m\u001B[38;5;241m.\u001B[39m_getitem_multilevel(key)\n\u001B[0;32m-> 3896\u001B[0m indexer \u001B[38;5;241m=\u001B[39m \u001B[38;5;28;43mself\u001B[39;49m\u001B[38;5;241;43m.\u001B[39;49m\u001B[43mcolumns\u001B[49m\u001B[38;5;241;43m.\u001B[39;49m\u001B[43mget_loc\u001B[49m\u001B[43m(\u001B[49m\u001B[43mkey\u001B[49m\u001B[43m)\u001B[49m\n\u001B[1;32m   3897\u001B[0m \u001B[38;5;28;01mif\u001B[39;00m is_integer(indexer):\n\u001B[1;32m   3898\u001B[0m     indexer \u001B[38;5;241m=\u001B[39m [indexer]\n",
      "File \u001B[0;32m~/PycharmProjects/IBM_Data_Science/venv/lib/python3.11/site-packages/pandas/core/indexes/base.py:3797\u001B[0m, in \u001B[0;36mIndex.get_loc\u001B[0;34m(self, key)\u001B[0m\n\u001B[1;32m   3792\u001B[0m     \u001B[38;5;28;01mif\u001B[39;00m \u001B[38;5;28misinstance\u001B[39m(casted_key, \u001B[38;5;28mslice\u001B[39m) \u001B[38;5;129;01mor\u001B[39;00m (\n\u001B[1;32m   3793\u001B[0m         \u001B[38;5;28misinstance\u001B[39m(casted_key, abc\u001B[38;5;241m.\u001B[39mIterable)\n\u001B[1;32m   3794\u001B[0m         \u001B[38;5;129;01mand\u001B[39;00m \u001B[38;5;28many\u001B[39m(\u001B[38;5;28misinstance\u001B[39m(x, \u001B[38;5;28mslice\u001B[39m) \u001B[38;5;28;01mfor\u001B[39;00m x \u001B[38;5;129;01min\u001B[39;00m casted_key)\n\u001B[1;32m   3795\u001B[0m     ):\n\u001B[1;32m   3796\u001B[0m         \u001B[38;5;28;01mraise\u001B[39;00m InvalidIndexError(key)\n\u001B[0;32m-> 3797\u001B[0m     \u001B[38;5;28;01mraise\u001B[39;00m \u001B[38;5;167;01mKeyError\u001B[39;00m(key) \u001B[38;5;28;01mfrom\u001B[39;00m \u001B[38;5;21;01merr\u001B[39;00m\n\u001B[1;32m   3798\u001B[0m \u001B[38;5;28;01mexcept\u001B[39;00m \u001B[38;5;167;01mTypeError\u001B[39;00m:\n\u001B[1;32m   3799\u001B[0m     \u001B[38;5;66;03m# If we have a listlike key, _check_indexing_error will raise\u001B[39;00m\n\u001B[1;32m   3800\u001B[0m     \u001B[38;5;66;03m#  InvalidIndexError. Otherwise we fall through and re-raise\u001B[39;00m\n\u001B[1;32m   3801\u001B[0m     \u001B[38;5;66;03m#  the TypeError.\u001B[39;00m\n\u001B[1;32m   3802\u001B[0m     \u001B[38;5;28mself\u001B[39m\u001B[38;5;241m.\u001B[39m_check_indexing_error(key)\n",
      "\u001B[0;31mKeyError\u001B[0m: 'Date'"
     ]
    },
    {
     "data": {
      "text/plain": "<Figure size 640x480 with 2 Axes>",
      "image/png": "[encoded data removed]"
     },
     "metadata": {},
     "output_type": "display_data"
    }
   ],
   "source": [
    "dashboard(\"TSLA\", \"Tesla Stock and Revenue Dashboard\")"
   ],
   "metadata": {
    "collapsed": false,
    "ExecuteTime": {
     "end_time": "2023-09-01T14:58:37.901150Z",
     "start_time": "2023-09-01T14:58:36.096820Z"
    }
   },
   "id": "aac873620b15e8a4"
  },
  {
   "cell_type": "markdown",
   "source": [
    "# GameStop Stock and Revenue Dashboard:"
   ],
   "metadata": {
    "collapsed": false
   },
   "id": "892a948d2bdd15a9"
  },
  {
   "cell_type": "code",
   "execution_count": null,
   "outputs": [],
   "source": [
    "dashboard(\"GME\", \"GameStop Stock and Revenue Dashboard\")"
   ],
   "metadata": {
    "collapsed": false,
    "ExecuteTime": {
     "end_time": "2023-09-01T14:58:37.904062Z",
     "start_time": "2023-09-01T14:58:37.901919Z"
    }
   },
   "id": "723927c0d597a8ee"
  },
  {
   "cell_type": "markdown",
   "source": [],
   "metadata": {
    "collapsed": false
   },
   "id": "bd5a731a74f28f76"
  },
  {
   "cell_type": "markdown",
   "source": [],
   "metadata": {
    "collapsed": false
   },
   "id": "d452a1240a5d415a"
  },
  {
   "cell_type": "markdown",
   "source": [],
   "metadata": {
    "collapsed": false
   },
   "id": "43764b46077bdb61"
  }
 ],
 "metadata": {
  "kernelspec": {
   "display_name": "Python 3",
   "language": "python",
   "name": "python3"
  },
  "language_info": {
   "codemirror_mode": {
    "name": "ipython",
    "version": 2
   },
   "file_extension": ".py",
   "mimetype": "text/x-python",
   "name": "python",
   "nbconvert_exporter": "python",
   "pygments_lexer": "ipython2",
   "version": "2.7.6"
  }
 },
 "nbformat": 4,
 "nbformat_minor": 5
}
